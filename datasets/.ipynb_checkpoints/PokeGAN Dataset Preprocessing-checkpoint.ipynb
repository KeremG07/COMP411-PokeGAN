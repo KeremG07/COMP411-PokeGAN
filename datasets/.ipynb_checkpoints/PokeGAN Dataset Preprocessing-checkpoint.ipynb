{
 "cells": [
  {
   "cell_type": "markdown",
   "id": "e0972dac",
   "metadata": {},
   "source": [
    "# PokeGAN Dataset Preprocessing"
   ]
  },
  {
   "cell_type": "code",
   "execution_count": 1,
   "id": "b22f28e9",
   "metadata": {},
   "outputs": [],
   "source": [
    "import os"
   ]
  },
  {
   "cell_type": "code",
   "execution_count": null,
   "id": "37150834",
   "metadata": {},
   "outputs": [],
   "source": [
    "## Directory For Loop\n",
    "\n",
    "directory = os.fsencode(os.getcwd())\n",
    "    \n",
    "for file in os.listdir(directory):\n",
    "     filename = os.fsdecode(file)\n",
    "     if filename.endswith(\".asm\") or filename.endswith(\".py\"): \n",
    "         # print(os.path.join(directory, filename))\n",
    "         continue\n",
    "     else:\n",
    "         continue\n",
    "\n",
    "\n",
    "## Iterate through each image folder in \"PokemonData\""
   ]
  }
 ],
 "metadata": {
  "kernelspec": {
   "display_name": "Python 3 (ipykernel)",
   "language": "python",
   "name": "python3"
  },
  "language_info": {
   "codemirror_mode": {
    "name": "ipython",
    "version": 3
   },
   "file_extension": ".py",
   "mimetype": "text/x-python",
   "name": "python",
   "nbconvert_exporter": "python",
   "pygments_lexer": "ipython3",
   "version": "3.10.2"
  }
 },
 "nbformat": 4,
 "nbformat_minor": 5
}
